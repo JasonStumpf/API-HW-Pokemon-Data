{
 "cells": [
  {
   "cell_type": "markdown",
   "id": "7196054f",
   "metadata": {},
   "source": [
    "# Working with APIs"
   ]
  },
  {
   "cell_type": "markdown",
   "id": "0547b71e",
   "metadata": {},
   "source": [
    "API stands for Application programming interface<br>\n",
    "APIs are a way for applications to talk to eachother<br>\n",
    "In python we use the requests package to handle the connection<br>\n",
    "<small><strong>Note: It is requests with an s not request(this is a different package)</strong></small><br>\n",
    "Most API's communicate with data in the form of JSON<br>\n",
    "JSON stands for JavaScript Object Notation"
   ]
  },
  {
   "cell_type": "code",
   "execution_count": 14,
   "id": "4db9d154",
   "metadata": {},
   "outputs": [],
   "source": [
    "#import the packages we need:\n",
    "import  requests, json"
   ]
  },
  {
   "cell_type": "markdown",
   "id": "e8c2ce51",
   "metadata": {},
   "source": [
    "We will be connecting to the Ergast F1 Racer API today:\n",
    "http://ergast.com/mrd/\n",
    "\n",
    "to view JSON data nicely in the Chrome browser install the extension JSONview"
   ]
  },
  {
   "cell_type": "code",
   "execution_count": null,
   "id": "52c440c6",
   "metadata": {},
   "outputs": [],
   "source": [
    "help(requests)"
   ]
  },
  {
   "cell_type": "code",
   "execution_count": 7,
   "id": "f60c1b4a",
   "metadata": {},
   "outputs": [],
   "source": [
    "url = 'https://ergast.com/api/f1/2008/5/results.json'"
   ]
  },
  {
   "cell_type": "code",
   "execution_count": 20,
   "id": "7b63a204",
   "metadata": {},
   "outputs": [
    {
     "name": "stdout",
     "output_type": "stream",
     "text": [
      "<Response [200]>\n",
      "<class 'requests.models.Response'>\n"
     ]
    },
    {
     "data": {
      "text/plain": [
       "True"
      ]
     },
     "execution_count": 20,
     "metadata": {},
     "output_type": "execute_result"
    }
   ],
   "source": [
    "#response object\n",
    "response = requests.get(url)\n",
    "print(response)\n",
    "print(type(response))\n",
    "response.ok"
   ]
  },
  {
   "cell_type": "code",
   "execution_count": 9,
   "id": "c6d1fdaf",
   "metadata": {},
   "outputs": [
    {
     "data": {
      "text/plain": [
       "True"
      ]
     },
     "execution_count": 9,
     "metadata": {},
     "output_type": "execute_result"
    }
   ],
   "source": [
    "#check and make sure we got a successful response from the API\n",
    "response.ok"
   ]
  },
  {
   "cell_type": "code",
   "execution_count": 18,
   "id": "ed4d3256",
   "metadata": {},
   "outputs": [],
   "source": [
    "#view the response as a JSON\n",
    "response.json()"
   ]
  },
  {
   "cell_type": "code",
   "execution_count": 19,
   "id": "92e6cd2c",
   "metadata": {},
   "outputs": [
    {
     "name": "stdout",
     "output_type": "stream",
     "text": [
      "<class 'dict'>\n"
     ]
    }
   ],
   "source": [
    "print(type(response.json()))"
   ]
  },
  {
   "cell_type": "code",
   "execution_count": null,
   "id": "de20cc7c",
   "metadata": {},
   "outputs": [],
   "source": [
    "data = response.json()"
   ]
  },
  {
   "cell_type": "code",
   "execution_count": 24,
   "id": "e1bfd352",
   "metadata": {},
   "outputs": [
    {
     "name": "stdout",
     "output_type": "stream",
     "text": [
      "{'f_name': 'Lewis', 'l_name': 'Hamilton', 'nation': 'British'}\n"
     ]
    }
   ],
   "source": [
    "d_name = 'hamilton'\n",
    "\n",
    "response = requests.get(f\"https://ergast.com/api/f1/drivers/{d_name}.json\")\n",
    "if response.ok:\n",
    "    data = response.json()\n",
    "    # print(data['MRData']['DriverTable']['Drivers'][0])\n",
    "    driver = {}\n",
    "    driver['f_name'] = data['MRData']['DriverTable']['Drivers'][0]['givenName']\n",
    "    driver['l_name'] = data['MRData']['DriverTable']['Drivers'][0]['familyName']\n",
    "    driver['nation'] = data['MRData']['DriverTable']['Drivers'][0]['nationality']\n",
    "    print(driver)\n",
    "    \n",
    "    "
   ]
  },
  {
   "cell_type": "code",
   "execution_count": 29,
   "id": "f074dfcf",
   "metadata": {},
   "outputs": [
    {
     "name": "stdout",
     "output_type": "stream",
     "text": [
      "At position 1, driver- massa for ferrari\n",
      "At position 2, driver- hamilton for mclaren\n",
      "At position 3, driver- raikkonen for ferrari\n",
      "At position 4, driver- kubica for bmw_sauber\n",
      "At position 5, driver- heidfeld for bmw_sauber\n",
      "At position 6, driver- alonso for renault\n",
      "At position 7, driver- webber for red_bull\n",
      "At position 8, driver- rosberg for williams\n",
      "At position 9, driver- coulthard for red_bull\n",
      "At position 10, driver- trulli for toyota\n",
      "At position 11, driver- button for honda\n",
      "At position 12, driver- kovalainen for mclaren\n",
      "At position 13, driver- glock for toyota\n",
      "At position 14, driver- barrichello for honda\n",
      "At position 15, driver- piquet_jr for renault\n",
      "At position 16, driver- sutil for force_india\n",
      "At position 17, driver- vettel for toro_rosso\n",
      "At position 18, driver- bourdais for toro_rosso\n",
      "At position 19, driver- nakajima for williams\n",
      "At position 20, driver- fisichella for force_india\n"
     ]
    }
   ],
   "source": [
    "# We only want the Driver Standings\n",
    "\n",
    "\n",
    "def d_stand(year, round):\n",
    "    response = requests.get(f'https://ergast.com/api/f1/{year}/{round}/results.json')\n",
    "    if response.ok:\n",
    "        data = response.json()\n",
    "        res = data['MRData']['RaceTable']['Races'][0]['Results']\n",
    "        for r in res:\n",
    "            print(f\"At position {r['position']}, driver- {r['Driver']['driverId']} for {r['Constructor']['constructorId']}\")\n",
    "   \n",
    "         \n",
    "        #res = (data['RaceTable']['Races'][0]['Results'])\n",
    "        #for r in res:\n",
    "            #print(f\"At position {r['position']}, driver- {r['Driver']['driverID']} for {r['Construtor']['constructorID']}.\")\n",
    "            \n",
    "d_stand(2008, 5)"
   ]
  },
  {
   "cell_type": "code",
   "execution_count": null,
   "id": "be46a950",
   "metadata": {},
   "outputs": [],
   "source": []
  },
  {
   "cell_type": "code",
   "execution_count": null,
   "id": "3740c752",
   "metadata": {},
   "outputs": [],
   "source": []
  },
  {
   "cell_type": "markdown",
   "id": "6d546014",
   "metadata": {},
   "source": [
    "# <strong>Homework</strong>\n",
    "check out this Pokemon API https://pokeapi.co/\n",
    "Use the requests package to connect to this API and get and store data for 5 different pokemon.\n",
    "Get the pokemons: name, atleast one ability's name, base_experience, and the URL for its sprite (an image that shows up on screen) for the 'front_shiny', attack base_state, hp base_stat, defense base_stat"
   ]
  },
  {
   "cell_type": "code",
   "execution_count": 86,
   "id": "5a9081e3",
   "metadata": {},
   "outputs": [
    {
     "name": "stdout",
     "output_type": "stream",
     "text": [
      "{'Name': 'Lucario', 'Ability': 'Steadfast', 'Base-Exp': 184, 'Sprite': 'https://raw.githubusercontent.com/PokeAPI/sprites/master/sprites/pokemon/shiny/448.png', 'Attack-Base-Stat': 110, 'HP-Base Stat': 70, 'Defense-Base-Stat': 70} \n",
      "\n",
      "{'Name': 'Gyarados', 'Ability': 'Intimidate', 'Base-Exp': 189, 'Sprite': 'https://raw.githubusercontent.com/PokeAPI/sprites/master/sprites/pokemon/shiny/130.png', 'Attack-Base-Stat': 125, 'HP-Base Stat': 95, 'Defense-Base-Stat': 79} \n",
      "\n",
      "{'Name': 'Excadrill', 'Ability': 'Sand-Rush', 'Base-Exp': 178, 'Sprite': 'https://raw.githubusercontent.com/PokeAPI/sprites/master/sprites/pokemon/shiny/530.png', 'Attack-Base-Stat': 135, 'HP-Base Stat': 110, 'Defense-Base-Stat': 60} \n",
      "\n",
      "{'Name': 'Bisharp', 'Ability': 'Defiant', 'Base-Exp': 172, 'Sprite': 'https://raw.githubusercontent.com/PokeAPI/sprites/master/sprites/pokemon/shiny/625.png', 'Attack-Base-Stat': 125, 'HP-Base Stat': 65, 'Defense-Base-Stat': 100} \n",
      "\n",
      "{'Name': 'Alakazam', 'Ability': 'Synchronize', 'Base-Exp': 250, 'Sprite': 'https://raw.githubusercontent.com/PokeAPI/sprites/master/sprites/pokemon/shiny/65.png', 'Attack-Base-Stat': 50, 'HP-Base Stat': 55, 'Defense-Base-Stat': 45} \n",
      "\n"
     ]
    }
   ],
   "source": [
    "def pokemon_func(team):\n",
    "    for t in team:\n",
    "        response = requests.get(f\"https://pokeapi.co/api/v2/pokemon/{t}\")\n",
    "        if response.ok:\n",
    "            pokemon = response.json()\n",
    "            team_data = {\n",
    "                'Name' : pokemon['name'].title(),\n",
    "                'Ability' : pokemon['abilities'][0]['ability']['name'].title(),\n",
    "                'Base-Exp' : pokemon['base_experience'],\n",
    "                'Sprite' : pokemon['sprites']['front_shiny'],\n",
    "                'Attack-Base-Stat' : pokemon['stats'][1]['base_stat'],\n",
    "                'HP-Base Stat' : pokemon['stats'][0]['base_stat'],\n",
    "                'Defense-Base-Stat' : pokemon['stats'][2]['base_stat']\n",
    "                }\n",
    "            print(team_data, '\\n')\n",
    "            \n",
    "pokemon_func(['lucario', 'gyarados', 'excadrill', 'bisharp', 'alakazam'])"
   ]
  },
  {
   "cell_type": "code",
   "execution_count": null,
   "id": "27a834c6",
   "metadata": {},
   "outputs": [],
   "source": []
  }
 ],
 "metadata": {
  "kernelspec": {
   "display_name": "Python 3 (ipykernel)",
   "language": "python",
   "name": "python3"
  },
  "language_info": {
   "codemirror_mode": {
    "name": "ipython",
    "version": 3
   },
   "file_extension": ".py",
   "mimetype": "text/x-python",
   "name": "python",
   "nbconvert_exporter": "python",
   "pygments_lexer": "ipython3",
   "version": "3.10.9"
  }
 },
 "nbformat": 4,
 "nbformat_minor": 5
}
